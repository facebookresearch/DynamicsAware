{
 "cells": [
  {
   "cell_type": "code",
   "execution_count": 62,
   "metadata": {},
   "outputs": [],
   "source": [
    "dir_ = \"/private/home/ekahmed/explore_phyre/phyre2/agents/run_time_sweeps_conf/ablations/\"\n",
    "ablations = [\"network_ablation.conf\", \"combination_func_ablation.conf\", \"max_dist_ablation.conf\",\n",
    "            \"n_bins_ablation.conf\", \"sampling_ablation.conf\"]\n",
    "\n",
    "import subprocess\n",
    "\n",
    "results = {}\n",
    "for ablation in ablations:\n",
    "    p = subprocess.Popen([\"python\", \"../run_sweep_file.py\", dir_ + ablation, \"-d\", \"-o\", \"k\"],stdout=subprocess.PIPE)\n",
    "    out, err = p.communicate()\n",
    "    results[ablation] = out.decode(\"utf-8\")"
   ]
  },
  {
   "cell_type": "code",
   "execution_count": 32,
   "metadata": {},
   "outputs": [],
   "source": []
  },
  {
   "cell_type": "code",
   "execution_count": 55,
   "metadata": {},
   "outputs": [
    {
     "name": "stdout",
     "output_type": "stream",
     "text": [
      "aux_loss = 0& 18 & \\pms{81.2}{0.3}\n",
      "aux_loss = 1& 18 & \\pms{83.1}{0.6}\n",
      "aux_loss = 0& 50 & \\pms{82.4}{0.4}\n",
      "aux_loss = 1& 50 & \\pms{83.5}{0.8}\n"
     ]
    }
   ],
   "source": [
    "for line in results[\"network_ablation.conf\"].split():\n",
    "    line = line.split(\",\")\n",
    "    net = line[6][6:]\n",
    "    print(f\"aux_loss = {line[16]}& {line[6][6:]} & \\pms{{{float(line[-2]) * 100:.1f}}}{{{float(line[-1])*100:.1f}}}\")"
   ]
  },
  {
   "cell_type": "code",
   "execution_count": 59,
   "metadata": {},
   "outputs": [
    {
     "name": "stdout",
     "output_type": "stream",
     "text": [
      "mul & \\pms{83.2}{0.6}\n",
      "outer & \\pms{83.2}{0.4}\n",
      "concat & \\pms{82.2}{0.8}\n"
     ]
    }
   ],
   "source": [
    "for line in results[\"combination_func_ablation.conf\"].split():\n",
    "    line = line.split(\",\")\n",
    "    net = line[6][6:]\n",
    "\n",
    "    print(f\"{line[16]} & \\pms{{{float(line[-2]) * 100:.1f}}}{{{float(line[-1])*100:.1f}}}\")"
   ]
  },
  {
   "cell_type": "code",
   "execution_count": 63,
   "metadata": {},
   "outputs": [
    {
     "name": "stdout",
     "output_type": "stream",
     "text": [
      "0.2 & \\pms{82.7}{0.9}\n",
      "0.5 & \\pms{83.3}{0.4}\n",
      "0.7 & \\pms{83.3}{0.8}\n",
      "1.42 & \\pms{83.4}{0.5}\n"
     ]
    }
   ],
   "source": [
    "for line in results[\"max_dist_ablation.conf\"].split():\n",
    "    line = line.split(\",\")\n",
    "    net = line[6][6:]\n",
    "\n",
    "    print(f\"{line[16]} & \\pms{{{float(line[-2]) * 100:.1f}}}{{{float(line[-1])*100:.1f}}}\")"
   ]
  },
  {
   "cell_type": "code",
   "execution_count": 64,
   "metadata": {},
   "outputs": [
    {
     "name": "stdout",
     "output_type": "stream",
     "text": [
      "2 & \\pms{82.9}{0.4}\n",
      "5 & \\pms{83.3}{0.5}\n",
      "20 & \\pms{82.8}{0.8}\n"
     ]
    }
   ],
   "source": [
    "\n",
    "for line in results[\"n_bins_ablation.conf\"].split():\n",
    "    line = line.split(\",\")\n",
    "    net = line[6][6:]\n",
    "\n",
    "    print(f\"{line[16]} & \\pms{{{float(line[-2]) * 100:.1f}}}{{{float(line[-1])*100:.1f}}}\")"
   ]
  },
  {
   "cell_type": "code",
   "execution_count": 65,
   "metadata": {},
   "outputs": [
    {
     "name": "stdout",
     "output_type": "stream",
     "text": [
      "8 & \\pms{81.6}{0.8}\n",
      "0 & \\pms{81.1}{0.4}\n"
     ]
    }
   ],
   "source": [
    "\n",
    "for line in results[\"sampling_ablation.conf\"].split():\n",
    "    line = line.split(\",\")\n",
    "    net = line[6][6:]\n",
    "\n",
    "    print(f\"{line[16]} & \\pms{{{float(line[-2]) * 100:.1f}}}{{{float(line[-1])*100:.1f}}}\")"
   ]
  },
  {
   "cell_type": "code",
   "execution_count": null,
   "metadata": {},
   "outputs": [],
   "source": []
  }
 ],
 "metadata": {
  "kernelspec": {
   "display_name": "Python 3",
   "language": "python",
   "name": "python3"
  },
  "language_info": {
   "codemirror_mode": {
    "name": "ipython",
    "version": 3
   },
   "file_extension": ".py",
   "mimetype": "text/x-python",
   "name": "python",
   "nbconvert_exporter": "python",
   "pygments_lexer": "ipython3",
   "version": "3.8.5"
  }
 },
 "nbformat": 4,
 "nbformat_minor": 4
}
